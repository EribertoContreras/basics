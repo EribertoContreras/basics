{
 "cells": [
  {
   "cell_type": "code",
   "execution_count": null,
   "id": "712f0f86",
   "metadata": {},
   "outputs": [],
   "source": [
    "import awswrangler as wr\n",
    "import pandas as pd\n",
    "from datetime import datetime\n",
    "import tensorflow"
   ]
  },
  {
   "cell_type": "code",
   "execution_count": null,
   "id": "9f6d9928",
   "metadata": {},
   "outputs": [],
   "source": [
    "df = pd.DataFrame({\"id\": [1, 2], \"value\": [\"foo\", \"boo\"]})\n",
    "\n",
    "# Storing data on Data Lake\n",
    "wr.s3.to_parquet(\n",
    "    df=df,\n",
    "    path=\"s3://bucket/dataset/\",\n",
    "    dataset=True,\n",
    "    database=\"my_db\",\n",
    "    table=\"my_table\"\n",
    ")\n",
    "\n",
    "# Retrieving the data directly from Amazon S3\n",
    "df = wr.s3.read_parquet(\"s3://bucket/dataset/\", dataset=True)\n",
    "\n",
    "# Retrieving the data from Amazon Athena\n",
    "df = wr.athena.read_sql_query(\"SELECT * FROM my_table\", database=\"my_db\")\n",
    "\n",
    "# Get a Redshift connection from Glue Catalog and retrieving data from Redshift Spectrum\n",
    "con = wr.redshift.connect(\"my-glue-connection\")\n",
    "df = wr.redshift.read_sql_query(\"SELECT * FROM external_schema.my_table\", con=con)\n",
    "con.close()\n",
    "\n",
    "# Amazon Timestream Write\n",
    "df = pd.DataFrame({\n",
    "    \"time\": [datetime.now(), datetime.now()],   \n",
    "    \"my_dimension\": [\"foo\", \"boo\"],\n",
    "    \"measure\": [1.0, 1.1],\n",
    "})\n",
    "rejected_records = wr.timestream.write(df,\n",
    "    database=\"sampleDB\",\n",
    "    table=\"sampleTable\",\n",
    "    time_col=\"time\",\n",
    "    measure_col=\"measure\",\n",
    "    dimensions_cols=[\"my_dimension\"],\n",
    ")\n",
    "\n",
    "# Amazon Timestream Query\n",
    "wr.timestream.query(\"\"\"\n",
    "SELECT time, measure_value::double, my_dimension\n",
    "FROM \"sampleDB\".\"sampleTable\" ORDER BY time DESC LIMIT 3\n",
    "\"\"\")"
   ]
  },
  {
   "cell_type": "code",
   "execution_count": null,
   "id": "61420b00",
   "metadata": {},
   "outputs": [],
   "source": [
    "caramel machiata"
   ]
  }
 ],
 "metadata": {
  "kernelspec": {
   "display_name": "Python 3 (ipykernel)",
   "language": "python",
   "name": "python3"
  },
  "language_info": {
   "codemirror_mode": {
    "name": "ipython",
    "version": 3
   },
   "file_extension": ".py",
   "mimetype": "text/x-python",
   "name": "python",
   "nbconvert_exporter": "python",
   "pygments_lexer": "ipython3",
   "version": "3.9.7"
  }
 },
 "nbformat": 4,
 "nbformat_minor": 5
}
